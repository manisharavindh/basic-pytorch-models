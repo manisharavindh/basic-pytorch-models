{
  "nbformat": 4,
  "nbformat_minor": 0,
  "metadata": {
    "colab": {
      "provenance": [],
      "authorship_tag": "ABX9TyM31T5787OlUz/LNodUsxkp",
      "include_colab_link": true
    },
    "kernelspec": {
      "name": "python3",
      "display_name": "Python 3"
    },
    "language_info": {
      "name": "python"
    }
  },
  "cells": [
    {
      "cell_type": "markdown",
      "metadata": {
        "id": "view-in-github",
        "colab_type": "text"
      },
      "source": [
        "<a href=\"https://colab.research.google.com/github/manisharavindh/basic-pytorch-models/blob/main/notebooks/01_linear_regression_model.ipynb\" target=\"_parent\"><img src=\"https://colab.research.google.com/assets/colab-badge.svg\" alt=\"Open In Colab\"/></a>"
      ]
    },
    {
      "cell_type": "code",
      "execution_count": 1,
      "metadata": {
        "colab": {
          "base_uri": "https://localhost:8080/"
        },
        "id": "KTgUmWQ8K754",
        "outputId": "d5f0abbd-9a6d-489e-8645-cb6c973a9f10"
      },
      "outputs": [
        {
          "output_type": "stream",
          "name": "stdout",
          "text": [
            "2.6.0+cu124\n"
          ]
        }
      ],
      "source": [
        "import torch\n",
        "from torch import nn\n",
        "import matplotlib.pyplot as plt\n",
        "\n",
        "print(torch.__version__)"
      ]
    },
    {
      "cell_type": "code",
      "source": [
        "# device agnostic code\n",
        "device = \"cuda\" if torch.cuda.is_available() else \"cpu\"\n",
        "device"
      ],
      "metadata": {
        "id": "1ODQWeaLLqQy",
        "colab": {
          "base_uri": "https://localhost:8080/",
          "height": 36
        },
        "outputId": "ac5485f5-a15c-43cd-c1dc-411d40b8f43e"
      },
      "execution_count": 2,
      "outputs": [
        {
          "output_type": "execute_result",
          "data": {
            "text/plain": [
              "'cpu'"
            ],
            "application/vnd.google.colaboratory.intrinsic+json": {
              "type": "string"
            }
          },
          "metadata": {},
          "execution_count": 2
        }
      ]
    },
    {
      "cell_type": "code",
      "source": [
        "# data with know parameters\n",
        "weight = 0.7\n",
        "bias = 0.3\n",
        "\n",
        "X = torch.arange(0, 1, 0.02).unsqueeze(dim=1)\n",
        "y = weight*X + bias\n",
        "X[:5], y[:5]"
      ],
      "metadata": {
        "colab": {
          "base_uri": "https://localhost:8080/"
        },
        "id": "5VmYD2K4ND04",
        "outputId": "7369daf5-de94-4781-c333-bf2ca4fd0c19"
      },
      "execution_count": 3,
      "outputs": [
        {
          "output_type": "execute_result",
          "data": {
            "text/plain": [
              "(tensor([[0.0000],\n",
              "         [0.0200],\n",
              "         [0.0400],\n",
              "         [0.0600],\n",
              "         [0.0800]]),\n",
              " tensor([[0.3000],\n",
              "         [0.3140],\n",
              "         [0.3280],\n",
              "         [0.3420],\n",
              "         [0.3560]]))"
            ]
          },
          "metadata": {},
          "execution_count": 3
        }
      ]
    },
    {
      "cell_type": "code",
      "source": [
        "# train test split\n",
        "split_size = int(0.8 * len(X))\n",
        "\n",
        "X_train, y_train = X[:split_size], y[:split_size]\n",
        "X_test, y_test = X[split_size:], y[split_size:]\n",
        "\n",
        "len(X_train), len(y_train), len(X_test), len(y_test)"
      ],
      "metadata": {
        "colab": {
          "base_uri": "https://localhost:8080/"
        },
        "id": "TvvlBjKmNF4D",
        "outputId": "63a13d81-1032-4b52-d8e3-db1e36f8f50e"
      },
      "execution_count": 4,
      "outputs": [
        {
          "output_type": "execute_result",
          "data": {
            "text/plain": [
              "(40, 40, 10, 10)"
            ]
          },
          "metadata": {},
          "execution_count": 4
        }
      ]
    },
    {
      "cell_type": "code",
      "source": [
        "# visualization\n",
        "plt.style.use('https://github.com/dhaitz/matplotlib-stylesheets/raw/master/pitayasmoothie-light.mplstyle')\n",
        "\n",
        "def pred_plot(train_data = X_train,\n",
        "             train_labels = y_train,\n",
        "             test_data = X_test,\n",
        "             test_labels = y_test,\n",
        "             predictions = None):\n",
        "\n",
        "  plt.figure(figsize=(8, 4))\n",
        "\n",
        "  plt.scatter(train_data.to('cpu'), train_labels.to('cpu'), c='b', s=4, label=\"Training Data\")\n",
        "  plt.scatter(test_data.to('cpu'), test_labels.to('cpu'), c='r', s=4, label=\"Testing Data\")\n",
        "\n",
        "  if predictions is not None:\n",
        "    plt.scatter(test_data.to('cpu'), predictions.to('cpu'), c='g', s=4, label=\"Predictions\")\n",
        "\n",
        "  plt.legend()\n",
        "pred_plot()"
      ],
      "metadata": {
        "colab": {
          "base_uri": "https://localhost:8080/",
          "height": 363
        },
        "id": "NxFJYAz2NHRU",
        "outputId": "70954bd2-622e-4978-aa94-4cafe384bc57"
      },
      "execution_count": 5,
      "outputs": [
        {
          "output_type": "display_data",
          "data": {
            "text/plain": [
              "<Figure size 800x400 with 1 Axes>"
            ],
            "image/png": "[encoded data removed]"
          },
          "metadata": {}
        }
      ]
    },
    {
      "cell_type": "code",
      "source": [
        "# model building\n",
        "class LinearRegressingModel(nn.Module):\n",
        "  def __init__(self):\n",
        "    super().__init__()\n",
        "    self.linear_layer = nn.Linear(in_features=1,\n",
        "                                  out_features=1)\n",
        "\n",
        "  def forward(self, x: torch.Tensor) -> torch.Tensor:\n",
        "    return self.linear_layer(x)\n",
        "\n",
        "model = LinearRegressingModel()\n",
        "model, model.state_dict()"
      ],
      "metadata": {
        "colab": {
          "base_uri": "https://localhost:8080/"
        },
        "id": "9phNgZmONIi8",
        "outputId": "e93e1e8e-30f0-4644-d952-5275e70b16ac"
      },
      "execution_count": 6,
      "outputs": [
        {
          "output_type": "execute_result",
          "data": {
            "text/plain": [
              "(LinearRegressingModel(\n",
              "   (linear_layer): Linear(in_features=1, out_features=1, bias=True)\n",
              " ),\n",
              " OrderedDict([('linear_layer.weight', tensor([[-0.2905]])),\n",
              "              ('linear_layer.bias', tensor([0.8681]))]))"
            ]
          },
          "metadata": {},
          "execution_count": 6
        }
      ]
    },
    {
      "cell_type": "code",
      "source": [
        "# data to device\n",
        "X_train = X_train.to(device)\n",
        "y_train = y_train.to(device)\n",
        "X_test = X_test.to(device)\n",
        "y_test = y_test.to(device)\n",
        "\n",
        "# model to device\n",
        "model.to(device)\n",
        "next(model.parameters()).device"
      ],
      "metadata": {
        "colab": {
          "base_uri": "https://localhost:8080/"
        },
        "id": "CPQmV563NKs7",
        "outputId": "91ace785-068b-4715-b1b9-301b3772e92f"
      },
      "execution_count": 7,
      "outputs": [
        {
          "output_type": "execute_result",
          "data": {
            "text/plain": [
              "device(type='cpu')"
            ]
          },
          "metadata": {},
          "execution_count": 7
        }
      ]
    },
    {
      "cell_type": "code",
      "source": [
        "# training\n",
        "loss_fn = nn.L1Loss()\n",
        "optimizer = torch.optim.Adam(params=model.parameters(), lr=0.01)\n",
        "\n",
        "torch.manual_seed(42)\n",
        "\n",
        "epochs = 200\n",
        "\n",
        "epoch_count = []\n",
        "train_loss_values = []\n",
        "test_loss_values = []\n",
        "\n",
        "for epoch in range(epochs):\n",
        "  model.train()\n",
        "  y_pred = model(X_train)\n",
        "  loss = loss_fn(y_pred, y_train)\n",
        "  optimizer.zero_grad()\n",
        "  loss.backward()\n",
        "  optimizer.step()\n",
        "\n",
        "  model.eval()\n",
        "  with torch.inference_mode():\n",
        "    test_pred = model(X_test)\n",
        "    test_loss = loss_fn(test_pred, y_test)\n",
        "\n",
        "  if epoch % 10 == 0:\n",
        "    epoch_count.append(epoch)\n",
        "    train_loss_values.append(loss)\n",
        "    test_loss_values.append(test_loss)\n",
        "    print(f\"Epoch: {epoch} | Train Loss: {loss} | Test Loss: {test_loss}\")"
      ],
      "metadata": {
        "colab": {
          "base_uri": "https://localhost:8080/"
        },
        "id": "1zs_20ulNNuP",
        "outputId": "05296e3e-9e7e-46ab-f5db-850d0fe717e6"
      },
      "execution_count": 8,
      "outputs": [
        {
          "output_type": "stream",
          "name": "stdout",
          "text": [
            "Epoch: 0 | Train Loss: 0.23977723717689514 | Test Loss: 0.3324047923088074\n",
            "Epoch: 10 | Train Loss: 0.2020975649356842 | Test Loss: 0.36706334352493286\n",
            "Epoch: 20 | Train Loss: 0.1711898148059845 | Test Loss: 0.35876214504241943\n",
            "Epoch: 30 | Train Loss: 0.14435601234436035 | Test Loss: 0.32404303550720215\n",
            "Epoch: 40 | Train Loss: 0.1191161647439003 | Test Loss: 0.2710415720939636\n",
            "Epoch: 50 | Train Loss: 0.09468287974596024 | Test Loss: 0.21567516028881073\n",
            "Epoch: 60 | Train Loss: 0.07082358747720718 | Test Loss: 0.1595858633518219\n",
            "Epoch: 70 | Train Loss: 0.04735514149069786 | Test Loss: 0.1047983393073082\n",
            "Epoch: 80 | Train Loss: 0.024181054905056953 | Test Loss: 0.05077941343188286\n",
            "Epoch: 90 | Train Loss: 0.0012330695753917098 | Test Loss: 0.002982658101245761\n",
            "Epoch: 100 | Train Loss: 0.005727400537580252 | Test Loss: 0.011293357238173485\n",
            "Epoch: 110 | Train Loss: 0.0032421001233160496 | Test Loss: 0.005526453256607056\n",
            "Epoch: 120 | Train Loss: 0.002247882541269064 | Test Loss: 0.008380049839615822\n",
            "Epoch: 130 | Train Loss: 0.0028689063619822264 | Test Loss: 0.0018486917251721025\n",
            "Epoch: 140 | Train Loss: 0.002361498074606061 | Test Loss: 0.0004914820310659707\n",
            "Epoch: 150 | Train Loss: 0.000648491841275245 | Test Loss: 0.004473996348679066\n",
            "Epoch: 160 | Train Loss: 0.0020023100078105927 | Test Loss: 0.0008854091283865273\n",
            "Epoch: 170 | Train Loss: 0.0009008422493934631 | Test Loss: 0.0016773163806647062\n",
            "Epoch: 180 | Train Loss: 0.0011285960208624601 | Test Loss: 0.00225448003038764\n",
            "Epoch: 190 | Train Loss: 0.0012354463106021285 | Test Loss: 0.0008725047227926552\n"
          ]
        }
      ]
    },
    {
      "cell_type": "code",
      "source": [
        "model.state_dict()"
      ],
      "metadata": {
        "colab": {
          "base_uri": "https://localhost:8080/"
        },
        "id": "BmN5em_gNVFV",
        "outputId": "d4c0567e-c8fa-4523-d017-a783bf78fd72"
      },
      "execution_count": 9,
      "outputs": [
        {
          "output_type": "execute_result",
          "data": {
            "text/plain": [
              "OrderedDict([('linear_layer.weight', tensor([[0.6995]])),\n",
              "             ('linear_layer.bias', tensor([0.3011]))])"
            ]
          },
          "metadata": {},
          "execution_count": 9
        }
      ]
    },
    {
      "cell_type": "code",
      "source": [
        "# predictions and evaluations\n",
        "model.eval()\n",
        "with torch.inference_mode():\n",
        "  new_pred = model(X_test)\n",
        "\n",
        "pred_plot(predictions=new_pred)"
      ],
      "metadata": {
        "colab": {
          "base_uri": "https://localhost:8080/",
          "height": 363
        },
        "id": "Z_9stApONaym",
        "outputId": "eecf97a1-d6bb-4470-bc63-af9b7ab8f527"
      },
      "execution_count": 10,
      "outputs": [
        {
          "output_type": "display_data",
          "data": {
            "text/plain": [
              "<Figure size 800x400 with 1 Axes>"
            ],
            "image/png": "[encoded data removed]"
          },
          "metadata": {}
        }
      ]
    },
    {
      "cell_type": "code",
      "source": [
        "# loss curve\n",
        "plt.plot(epoch_count, torch.tensor(train_loss_values).numpy(), label=\"Train Loss\")\n",
        "plt.plot(epoch_count, torch.tensor(test_loss_values).numpy(), label=\"Test Loss\")\n",
        "plt.xlabel(\"Loss\")\n",
        "plt.ylabel(\"Epochs\")\n",
        "plt.title(\"Loss Curve\")\n",
        "plt.legend()"
      ],
      "metadata": {
        "colab": {
          "base_uri": "https://localhost:8080/",
          "height": 483
        },
        "id": "AbYbb59_Nbu7",
        "outputId": "33c4e373-a509-4564-9285-da32a406c345"
      },
      "execution_count": 11,
      "outputs": [
        {
          "output_type": "execute_result",
          "data": {
            "text/plain": [
              "<matplotlib.legend.Legend at 0x788983ef8110>"
            ]
          },
          "metadata": {},
          "execution_count": 11
        },
        {
          "output_type": "display_data",
          "data": {
            "text/plain": [
              "<Figure size 640x480 with 1 Axes>"
            ],
            "image/png": "[encoded data removed]"
          },
          "metadata": {}
        }
      ]
    },
    {
      "cell_type": "code",
      "source": [
        "# saving the model\n",
        "from pathlib import Path\n",
        "\n",
        "MODEL_PATH = Path('models')\n",
        "MODEL_PATH.mkdir(parents=True, exist_ok=True)\n",
        "\n",
        "MODEL_NAME = \"01_pytorch_workflow_model.pth\"\n",
        "MODEL_SAVE_PATH = MODEL_PATH / MODEL_NAME\n",
        "\n",
        "torch.save(\n",
        "    obj=model.state_dict(),\n",
        "    f=MODEL_SAVE_PATH\n",
        ")\n",
        "print(f\"model saved to: {MODEL_SAVE_PATH}\")"
      ],
      "metadata": {
        "colab": {
          "base_uri": "https://localhost:8080/"
        },
        "id": "xKh6NvoeNdGF",
        "outputId": "14961db0-2612-47f2-e023-8694f6e85538"
      },
      "execution_count": 12,
      "outputs": [
        {
          "output_type": "stream",
          "name": "stdout",
          "text": [
            "model saved to: models/01_pytorch_workflow_model.pth\n"
          ]
        }
      ]
    },
    {
      "cell_type": "code",
      "source": [
        "# loading the saved model\n",
        "loaded_model = LinearRegressingModel()\n",
        "loaded_model.load_state_dict(torch.load(MODEL_SAVE_PATH))"
      ],
      "metadata": {
        "colab": {
          "base_uri": "https://localhost:8080/"
        },
        "id": "EtHX74NSNfHx",
        "outputId": "c4b45467-f482-4b01-fcc4-a4c1bceb7564"
      },
      "execution_count": 13,
      "outputs": [
        {
          "output_type": "execute_result",
          "data": {
            "text/plain": [
              "<All keys matched successfully>"
            ]
          },
          "metadata": {},
          "execution_count": 13
        }
      ]
    },
    {
      "cell_type": "code",
      "source": [
        "loaded_model.to(device)\n",
        "\n",
        "loaded_model.eval()\n",
        "with torch.inference_mode():\n",
        "  loaded_model_pred = loaded_model(X_test)\n",
        "\n",
        "loaded_model_pred == new_pred"
      ],
      "metadata": {
        "colab": {
          "base_uri": "https://localhost:8080/"
        },
        "id": "iexZ8e2-NhCO",
        "outputId": "b82f73f8-1616-4357-ccb2-b1f545d8bbe4"
      },
      "execution_count": 14,
      "outputs": [
        {
          "output_type": "execute_result",
          "data": {
            "text/plain": [
              "tensor([[True],\n",
              "        [True],\n",
              "        [True],\n",
              "        [True],\n",
              "        [True],\n",
              "        [True],\n",
              "        [True],\n",
              "        [True],\n",
              "        [True],\n",
              "        [True]])"
            ]
          },
          "metadata": {},
          "execution_count": 14
        }
      ]
    },
    {
      "cell_type": "code",
      "source": [],
      "metadata": {
        "id": "LZ7LC5OANiJu"
      },
      "execution_count": 14,
      "outputs": []
    }
  ]
}